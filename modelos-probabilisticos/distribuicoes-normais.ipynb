{
 "cells": [
  {
   "cell_type": "code",
   "execution_count": null,
   "metadata": {},
   "outputs": [],
   "source": [
    "'''\n",
    "Distribuição normal:\n",
    "    Distribuição de probabilidade contínua para uma variável aleatória X,cujo gráfico é chamado de curva normal, satisfazendo\n",
    "    as propriedades listadas a seguir:\n",
    "        \n",
    "        1# A média, a mediana e a moda são iguais\n",
    "        2# Uma curva normal tem forma de sino e é simétrica em torno da média\n",
    "        3# A área total sob a curva normal é igual a 1.\n",
    "        4# À medida que a curva normal se distancia da média, ela se aproxima do eixo X, mas sem tocá-lo.\n",
    "        5# Entre u- o e u + o (centro da curva) a concavidade é p/ baixo e fora concavidade p/ cima\n",
    "\n",
    "'''"
   ]
  },
  {
   "cell_type": "code",
   "execution_count": 9,
   "metadata": {},
   "outputs": [
    {
     "name": "stdout",
     "output_type": "stream",
     "text": [
      "desvio padão:0.10274023338281627 - media: 1.6833333333333333\n"
     ]
    }
   ],
   "source": [
    "'''\n",
    "Média e Desvio Padrão:\n",
    "    \n",
    "'''\n",
    "\n",
    "from ferramentas.ferramentas import Desvio\n",
    "import numpy as np\n",
    "\n",
    "#calculando desvio padrão das alturas de uma classe (onde o grafico para de crescer)\n",
    "classe = [1.55,1.70,1.80]\n",
    "c_mean = np.mean(classe)\n",
    "desvio = Desvio(classe)\n",
    "desvio.Dp()\n",
    "print('desvio padão:{} - media: {}'.format(desvio.dp,c_mean))"
   ]
  },
  {
   "cell_type": "code",
   "execution_count": null,
   "metadata": {},
   "outputs": [],
   "source": [
    "'''\n",
    "Distribuição normal padrão:\n",
    "    É uma distribuição normal com media igual a 0 e desvio padrão 1. A área total sob a curva normal é 1.\n",
    "    calculando score-z\n",
    "        z = (x-u)/o \n",
    "        u = media, o= desvio padrão\n",
    "    \n",
    "'''\n",
    "from scipy.stats import norm\n",
    "norm.ppf(.5)  # half of the mass is before zero"
   ]
  }
 ],
 "metadata": {
  "kernelspec": {
   "display_name": "Python 3",
   "language": "python",
   "name": "python3"
  },
  "language_info": {
   "codemirror_mode": {
    "name": "ipython",
    "version": 3
   },
   "file_extension": ".py",
   "mimetype": "text/x-python",
   "name": "python",
   "nbconvert_exporter": "python",
   "pygments_lexer": "ipython3",
   "version": "3.8.3"
  }
 },
 "nbformat": 4,
 "nbformat_minor": 4
}
