{
 "cells": [
  {
   "cell_type": "code",
   "execution_count": null,
   "metadata": {},
   "outputs": [],
   "source": [
    "'''\n",
    "Distribuição normal:\n",
    "    Distribuição de probabilidade contínua para uma variável aleatória X,cujo gráfico é chamado de curva normal, satisfazendo\n",
    "    as propriedades listadas a seguir:\n",
    "        \n",
    "        1# A média, a mediana e a moda são iguais\n",
    "        2# Uma curva normal tem forma de sino e é simétrica em torno da média\n",
    "        3# A área total sob a curva normal é igual a 1.\n",
    "        4# À medida que a curva normal se distancia da média, ela se aproxima do eixo X, mas sem tocá-lo.\n",
    "        5# Entre u- o e u + o (centro da curva) a concavidade é p/ baixo e fora concavidade p/ cima\n",
    "\n",
    "'''"
   ]
  },
  {
   "cell_type": "code",
   "execution_count": 9,
   "metadata": {},
   "outputs": [
    {
     "name": "stdout",
     "output_type": "stream",
     "text": [
      "desvio padão:0.10274023338281627 - media: 1.6833333333333333\n"
     ]
    }
   ],
   "source": [
    "'''\n",
    "Média e Desvio Padrão:\n",
    "    \n",
    "'''\n",
    "\n",
    "from ferramentas.ferramentas import Ferramentas\n",
    "import numpy as np\n",
    "\n"
   ]
  },
  {
   "cell_type": "code",
   "execution_count": null,
   "metadata": {},
   "outputs": [],
   "source": [
    "'''\n",
    "Distribuição normal padrão:\n",
    "    É uma distribuição normal com media igual a 0 e desvio padrão 1. A área total sob a curva normal é 1.\n",
    "    calculando score-z\n",
    "        z = (x-u)/o \n",
    "        u = media, o= desvio padrão\n",
    "    \n",
    "'''\n",
    "from scipy.stats import norm\n",
    "norm.ppf(.5)  # half of the mass is before zero"
   ]
  },
  {
   "source": [
    "'''\n",
    "As notas padronizadas do teste de matemática do oitavo ano do estado de São Paulo são normalmente distribuidas. A curva, mostrada na Figura, representa essa distribuição. Qual é a nota média? Estime o desvio padrão dessa distriuição norma.\n",
    "'''\n",
    "![title](\"modelos-probabilisticos/atividades/at1.png\")"
   ],
   "cell_type": "code",
   "metadata": {},
   "execution_count": 1,
   "outputs": [
    {
     "output_type": "execute_result",
     "data": {
      "text/plain": [
       "'\\nAs notas padronizadas do teste de matemática do oitavo ano do estado de São Paulo são normalmente distribuidas. A curva, mostrada na Figura, representa essa distribuição. Qual é a nota média? Estime o desvio padrão dessa distriuição norma.\\n'"
      ]
     },
     "metadata": {},
     "execution_count": 1
    }
   ]
  }
 ],
 "metadata": {
  "kernelspec": {
   "name": "python391jvsc74a57bd063fd5069d213b44bf678585dea6b12cceca9941eaf7f819626cde1f2670de90d",
   "display_name": "Python 3.9.1 64-bit"
  },
  "language_info": {
   "codemirror_mode": {
    "name": "ipython",
    "version": 3
   },
   "file_extension": ".py",
   "mimetype": "text/x-python",
   "name": "python",
   "nbconvert_exporter": "python",
   "pygments_lexer": "ipython3",
   "version": "3.9.1"
  },
  "metadata": {
   "interpreter": {
    "hash": "63fd5069d213b44bf678585dea6b12cceca9941eaf7f819626cde1f2670de90d"
   }
  }
 },
 "nbformat": 4,
 "nbformat_minor": 4
}