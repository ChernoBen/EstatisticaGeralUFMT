{
 "cells": [
  {
   "cell_type": "code",
   "execution_count": null,
   "metadata": {},
   "outputs": [],
   "source": [
    "'''\n",
    "Experimento probabilístico:\n",
    "    é uma ação ou tentativa sujeita à leis do acaso, pela qual resultados específicos são obtidos!\n",
    "'''"
   ]
  },
  {
   "cell_type": "code",
   "execution_count": null,
   "metadata": {},
   "outputs": [],
   "source": [
    "'''\n",
    "Resultado:\n",
    "    Produto de uma única tentativa em um experimento probabilístico!\n",
    "'''"
   ]
  },
  {
   "cell_type": "code",
   "execution_count": null,
   "metadata": {},
   "outputs": [],
   "source": [
    "'''\n",
    "Espaco amostral:\n",
    "    Conjunto de todos os resultados possíveis de um experimento probabilístico!\n",
    "'''"
   ]
  },
  {
   "cell_type": "code",
   "execution_count": null,
   "metadata": {},
   "outputs": [],
   "source": [
    "'''\n",
    "Evento:\n",
    "    Subconjunto do espaço amostral. Pode consistir em um ou mais resultados\n",
    "'''"
   ]
  },
  {
   "cell_type": "code",
   "execution_count": null,
   "metadata": {},
   "outputs": [],
   "source": [
    "'''\n",
    "Princípio fundamental da contagem:\n",
    "    Se um evento pode occorer de 'm' maneiras e um segundo evento pode ocorrer de 'n' maneiras,\n",
    "    o número de maneiras que os dois eventos podem ocorrer em sequências é (m * n).\n",
    "    Essa regra pode pode ser estendida para qualquer número de eventos ocorrendo em sequência.\n",
    "'''"
   ]
  },
  {
   "cell_type": "code",
   "execution_count": null,
   "metadata": {},
   "outputs": [],
   "source": [
    "'''\n",
    "Tipos de probabilidade:\n",
    "    Prob clássica:\n",
    "        Quando cada resultado em um espaço amostral é igualmente possível de ocorrer.\n",
    "        Dado por:\n",
    "            P(e) = número de resultado de um evento E / Número de resultados no espaço amostral\n",
    "    \n",
    "    Prob empírica:\n",
    "        Baseada em observações obtidas de experimentos probabilísticos. A probabilidade empírica de um evento E é a frequencia\n",
    "        relativa do evento E.\n",
    "        Dado por:\n",
    "            P(e) = (Frequência do evento E/ frequência total) = f/n\n",
    "                \n",
    "    Prob subjetiva:\n",
    "        Resulta de conjecturas e de estimativas por intuição. Ex: Dada a saúde de um paciente e a extensão dos ferimentos,\n",
    "        um médico pode sentir que o paciente tem 90% de chance de recuperação total. Ou um analista de negócios pode prever que\n",
    "        a chance de os funcionários de certa empresa entrarem em greve é de 0,25.\n",
    "        \n",
    "'A probabilidade da ocorrência de um determinado evento é descrita por \"P(e)=\"'\n",
    "'''"
   ]
  },
  {
   "cell_type": "code",
   "execution_count": null,
   "metadata": {},
   "outputs": [],
   "source": [
    "'''\n",
    "Regra da multiplicação para a probabilidade de A e B (and):\n",
    "    A probabilidade de que eventos A e B ocorram em sequencia é:\n",
    "        P(A e B) = P(A) * P(B|A) 'P/ eventos dependentes entre si. P(A|B) = P de B dado que aconteceu A'\n",
    "        ---------------------------------------------------------\n",
    "        P(A e B) = P(A) * P(B) 'P/ eventos independentes'\n",
    "        \n",
    "        Ex: ***evento dependente*** Probabilidade de selecionar determinada carta(A) depois de outra determinada carta(B).\n",
    "            ***evento independente*** Uma moeda é jogada e um dado é lançado, encontrar a probabilidade de cair par e 6\n",
    "'''"
   ]
  },
  {
   "cell_type": "code",
   "execution_count": null,
   "metadata": {},
   "outputs": [],
   "source": [
    "'''\n",
    "Regra da Adição para probabilidade de A ou B (or):\n",
    "    A probabilidade de que os eventos A ou B ocorram, P(A ou B), é dada por :\n",
    "        P(A ou B) = P(A) + P(B) - P(A e B)\n",
    "        \n",
    "    Ex:***não exclusivos*** Chance de um dado cair em um numero menos que três ou um numero impar\n",
    "    \n",
    "    Se os eventos A e B forem mutuamente exclusivos, então a regra pode ser simplificado em:\n",
    "        P(A ou B) = P(A) + P(B)\n",
    "        \n",
    "        Ex:***Exclusivos*** chance de uma carta retirada do baralho ser um ás ou 4\n",
    "''' "
   ]
  },
  {
   "cell_type": "code",
   "execution_count": null,
   "metadata": {},
   "outputs": [],
   "source": [
    "'''\n",
    "Eventos mutuamente exclusicos:\n",
    "    Dois eventos são mutuamente exclusivos quando não puderem ocorrer ao mesmo tempo.\n",
    "'''"
   ]
  },
  {
   "cell_type": "code",
   "execution_count": null,
   "metadata": {},
   "outputs": [],
   "source": [
    "'''\n",
    "Permutação:\n",
    "    Utilizado para determinar o numero de maneiras nas quais N objetos podem ser organizado em ordem:\n",
    "        n!= n(n-1)*(n-2)*...*3*2*1\n",
    "        ex: 5! = 5*4*3*2*1\n",
    "'''"
   ]
  }
 ],
 "metadata": {
  "kernelspec": {
   "display_name": "Python 3",
   "language": "python",
   "name": "python3"
  },
  "language_info": {
   "codemirror_mode": {
    "name": "ipython",
    "version": 3
   },
   "file_extension": ".py",
   "mimetype": "text/x-python",
   "name": "python",
   "nbconvert_exporter": "python",
   "pygments_lexer": "ipython3",
   "version": "3.8.3"
  }
 },
 "nbformat": 4,
 "nbformat_minor": 4
}
