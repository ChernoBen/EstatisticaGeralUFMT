{
 "cells": [
  {
   "cell_type": "code",
   "execution_count": null,
   "metadata": {},
   "outputs": [],
   "source": [
    "'''\n",
    "Experimento probabilístico:\n",
    "    é uma ação ou tentativa sujeita à leis do acaso, pela qual resultados específicos são obtidos!\n",
    "'''"
   ]
  },
  {
   "cell_type": "code",
   "execution_count": null,
   "metadata": {},
   "outputs": [],
   "source": [
    "'''\n",
    "Resultado:\n",
    "    Produto de uma única tentativa em um experimento probabilístico!\n",
    "'''"
   ]
  },
  {
   "cell_type": "code",
   "execution_count": null,
   "metadata": {},
   "outputs": [],
   "source": [
    "'''\n",
    "Espaco amostral:\n",
    "    Conjunto de todos os resultados possíveis de um experimento probabilístico!\n",
    "'''"
   ]
  },
  {
   "cell_type": "code",
   "execution_count": null,
   "metadata": {},
   "outputs": [],
   "source": [
    "'''\n",
    "Evento:\n",
    "    Subconjunto do espaço amostral. Pode consistir em um ou mais resultados\n",
    "'''"
   ]
  },
  {
   "cell_type": "code",
   "execution_count": null,
   "metadata": {},
   "outputs": [],
   "source": [
    "'''\n",
    "Princípio fundamental da contagem:\n",
    "    Se um evento pode occorer de 'm' maneiras e um segundo evento pode ocorrer de 'n' maneiras,\n",
    "    o número de maneiras que os dois eventos podem ocorrer em sequências é (m * n).\n",
    "    Essa regra pode pode ser estendida para qualquer número de eventos ocorrendo em sequência.\n",
    "'''"
   ]
  },
  {
   "cell_type": "code",
   "execution_count": null,
   "metadata": {},
   "outputs": [],
   "source": [
    "'''\n",
    "Tipos de probabilidade:\n",
    "    Prob clássica:\n",
    "        Quando cada resultado em um espaço amostral é igualmente possível de ocorrer.\n",
    "        Dado por:\n",
    "            P(e) = número de resultado de um evento E / Número de resultados no espaço amostral\n",
    "    \n",
    "    Prob empírica:\n",
    "        Baseada em observações obtidas de experimentos probabilísticos. A probabilidade empírica de um evento E é a frequencia\n",
    "        relativa do evento E.\n",
    "        Dado por:\n",
    "            P(e) = (Frequência do evento E/ frequência total) = f/n\n",
    "                \n",
    "    Prob subjetiva:\n",
    "        Resulta de conjecturas e de estimativas por intuição. Ex: Dada a saúde de um paciente e a extensão dos ferimentos,\n",
    "        um médico pode sentir que o paciente tem 90% de chance de recuperação total. Ou um analista de negócios pode prever que\n",
    "        a chance de os funcionários de certa empresa entrarem em greve é de 0,25.\n",
    "        \n",
    "'A probabilidade da ocorrência de um determinado evento é descrita por \"P(e)=\"'\n",
    "'''"
   ]
  }
 ],
 "metadata": {
  "kernelspec": {
   "display_name": "Python 3",
   "language": "python",
   "name": "python3"
  },
  "language_info": {
   "codemirror_mode": {
    "name": "ipython",
    "version": 3
   },
   "file_extension": ".py",
   "mimetype": "text/x-python",
   "name": "python",
   "nbconvert_exporter": "python",
   "pygments_lexer": "ipython3",
   "version": "3.8.3"
  }
 },
 "nbformat": 4,
 "nbformat_minor": 4
}
