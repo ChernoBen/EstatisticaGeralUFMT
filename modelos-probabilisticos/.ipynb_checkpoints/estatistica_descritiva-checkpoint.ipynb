{
 "cells": [
  {
   "cell_type": "code",
   "execution_count": null,
   "metadata": {},
   "outputs": [],
   "source": [
    "'''\n",
    "Descrição de dados : Resumos numéricos\n",
    "    \n",
    "    Medidas de tendência:\n",
    "        Média, mediana e moda:\n",
    "            Media ponderada e media de dados agrupados\n",
    "    \n",
    "    Medidas de variacao:\n",
    "        Amplitude, variância, desvio padrão:\n",
    "            interpretação do desvio padrao, desvio para dados agrupados e coeficiente de variação\n",
    "    \n",
    "    Medidas de posição:\n",
    "        Quartir, Percentis escore padrão\n",
    "'''"
   ]
  },
  {
   "cell_type": "code",
   "execution_count": null,
   "metadata": {},
   "outputs": [],
   "source": [
    "'''\n",
    "Moda:\n",
    "    Valor que mais se repete.\n",
    "    \n",
    "Mediana:\n",
    "    Valor do meio\n",
    "        se posicoes totais =par (n/2) + (n+1/2))/2\n",
    "        se posicoes totais = impar (N + 1)/2\n",
    "        \n",
    "Media Ponderada:\n",
    "    Somatoria do nota(valor)* peso E=(x1*w2) ... + (Xn *Wn)\n",
    "    \n",
    "Media para dados agrupados:\n",
    "    ponto medio = classe 2 + classe 1 /2\n",
    "    ((pontoMedio * frequencia(veses em que se repete a classe)) + ... (pontoMedio * frq))/somatoria das frequencias\n",
    "    \n",
    "Amplitude:\n",
    "    Di\n",
    "    \n",
    "'''"
   ]
  },
  {
   "cell_type": "code",
   "execution_count": null,
   "metadata": {},
   "outputs": [],
   "source": [
    "'''\n",
    "Outlier\n",
    "    É um valor que está muito afastado dos demais valores do conjunto de dados\n",
    "'''"
   ]
  }
 ],
 "metadata": {
  "kernelspec": {
   "display_name": "Python 3",
   "language": "python",
   "name": "python3"
  },
  "language_info": {
   "codemirror_mode": {
    "name": "ipython",
    "version": 3
   },
   "file_extension": ".py",
   "mimetype": "text/x-python",
   "name": "python",
   "nbconvert_exporter": "python",
   "pygments_lexer": "ipython3",
   "version": "3.8.3"
  }
 },
 "nbformat": 4,
 "nbformat_minor": 4
}
