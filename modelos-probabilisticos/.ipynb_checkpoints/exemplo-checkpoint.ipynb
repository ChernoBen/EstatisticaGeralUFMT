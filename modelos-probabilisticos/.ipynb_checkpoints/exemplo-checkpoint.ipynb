{
 "cells": [
  {
   "cell_type": "code",
   "execution_count": 16,
   "metadata": {},
   "outputs": [],
   "source": [
    "import matplotlib.pyplot as plt\n",
    "import math\n"
   ]
  },
  {
   "cell_type": "code",
   "execution_count": null,
   "metadata": {},
   "outputs": [],
   "source": [
    "lista_de_alturas = [1.55,1.70,1.80,1.4,1.3,1.2,1.2,1.66,1.75,1.1,1.9,1.3,1.88]\n",
    "print(f'alturas: {lista_de_alturas}')\n",
    "\n",
    "somatoria = 0\n",
    "print(somatoria)\n",
    "\n",
    "for altura in lista_de_alturas:\n",
    "    somatoria += altura\n",
    "    \n",
    "print(f'Somatoria: {somatoria}')    \n",
    "\n",
    "media_aritimetica = somatoria/3\n",
    "print(f'media aritimética: {media_aritimetica}')\n",
    "\n",
    "desvio_padrao = math.sqrt(media_aritimetica)\n",
    "print(f'desvio padrão: {desvio_padrao}')"
   ]
  },
  {
   "cell_type": "code",
   "execution_count": null,
   "metadata": {},
   "outputs": [],
   "source": [
    "plt.title('Alturas de uma classe')\n",
    "plt.xlabel('Alturas')\n",
    "plt.ylabel('Frequencia')\n",
    "plt.hist(lista_de_alturas,3,rwidth=0.5)"
   ]
  },
  {
   "cell_type": "code",
   "execution_count": null,
   "metadata": {},
   "outputs": [],
   "source": []
  }
 ],
 "metadata": {
  "kernelspec": {
   "display_name": "Python 3",
   "language": "python",
   "name": "python3"
  },
  "language_info": {
   "codemirror_mode": {
    "name": "ipython",
    "version": 3
   },
   "file_extension": ".py",
   "mimetype": "text/x-python",
   "name": "python",
   "nbconvert_exporter": "python",
   "pygments_lexer": "ipython3",
   "version": "3.8.3"
  }
 },
 "nbformat": 4,
 "nbformat_minor": 4
}
