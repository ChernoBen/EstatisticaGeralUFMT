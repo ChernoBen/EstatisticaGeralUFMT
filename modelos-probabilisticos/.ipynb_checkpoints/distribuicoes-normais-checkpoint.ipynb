{
 "cells": [
  {
   "cell_type": "code",
   "execution_count": 4,
   "metadata": {},
   "outputs": [
    {
     "data": {
      "text/plain": [
       "'\\nDistribuição normal:\\n    Distribuição de probabilidade contínua para uma variável aleatória X,cujo gráfico é chamado de curva normal, satisfazendo\\n    as propriedades listadas a seguir:\\n        \\n        1# A média, a mediana e a moda são iguais\\n        2# Uma curva normal tem forma de sino e é simétrica em torno da média\\n        3# A área total sob a curva normal é igual a 1.\\n        4# À medida que a curva normal se distancia da média, ela se aproxima do eixo X, mas sem tocá-lo.\\n        5# Entre u- o e u + o (centro da curva) a concavidade é p/ baixo e fora concavidade p/ cima\\n\\n'"
      ]
     },
     "execution_count": 4,
     "metadata": {},
     "output_type": "execute_result"
    }
   ],
   "source": [
    "\n",
    "'''\n",
    "Distribuição normal:\n",
    "    Distribuição de probabilidade contínua para uma variável aleatória X,cujo gráfico é chamado de curva normal, satisfazendo\n",
    "    as propriedades listadas a seguir:\n",
    "        \n",
    "        1# A média, a mediana e a moda são iguais\n",
    "        2# Uma curva normal tem forma de sino e é simétrica em torno da média\n",
    "        3# A área total sob a curva normal é igual a 1.\n",
    "        4# À medida que a curva normal se distancia da média, ela se aproxima do eixo X, mas sem tocá-lo.\n",
    "        5# Entre u- o e u + o (centro da curva) a concavidade é p/ baixo e fora concavidade p/ cima\n",
    "\n",
    "'''"
   ]
  },
  {
   "cell_type": "code",
   "execution_count": 6,
   "metadata": {},
   "outputs": [
    {
     "data": {
      "text/plain": [
       "0.0"
      ]
     },
     "execution_count": 6,
     "metadata": {},
     "output_type": "execute_result"
    }
   ],
   "source": [
    "'''\n",
    "Distribuição normal padrão:\n",
    "    É uma distribuição normal com media igual a 0 e desvio padrão 1. A área total sob a curva normal é 1.\n",
    "    calculando score-z\n",
    "        z = (x-u)/o \n",
    "        u = media, o= desvio padrão\n",
    "    \n",
    "'''\n"
   ]
  },
  {
   "cell_type": "code",
   "execution_count": 1,
   "metadata": {},
   "outputs": [
    {
     "name": "stdout",
     "output_type": "stream",
     "text": [
      "desvio: 86.84596837057101 \n",
      " media: 678.6666666666666 \n",
      " score z: [-1.4815502559387335, -0.9058182911957021, -0.33008632645267083, 0.4989677027772942, 0.8213776030333917, 1.397109567776423]\n"
     ]
    }
   ],
   "source": [
    "from ferramentas.ferramentas import Ferramentas\n",
    "'''\n",
    "As notas padronizadas do teste de matemática do oitavo ano do estado de São Paulo são normalmente distribuidas.\n",
    "A curva, mostrada na Figura, representa essa distribuição.\n",
    "Qual é a nota média? Estime o desvio padrão dessa distriuição normal.\n",
    "'''\n",
    "notas = Ferramentas()\n",
    "desvio = notas.Dp([550,600,650,722,750,800],0)\n",
    "media = notas.ma\n",
    "score_z = notas.Score()\n",
    "\n",
    "#Resposta\n",
    "print(f'desvio: {desvio} \\n media: {media} \\n score z: {score_z}')\n",
    "\n",
    "\n",
    "\n",
    "\n"
   ]
  },
  {
   "cell_type": "code",
   "execution_count": null,
   "metadata": {},
   "outputs": [],
   "source": []
  }
 ],
 "metadata": {
  "kernelspec": {
   "display_name": "Python 3",
   "language": "python",
   "name": "python3"
  },
  "language_info": {
   "codemirror_mode": {
    "name": "ipython",
    "version": 3
   },
   "file_extension": ".py",
   "mimetype": "text/x-python",
   "name": "python",
   "nbconvert_exporter": "python",
   "pygments_lexer": "ipython3",
   "version": "3.8.3"
  },
  "metadata": {
   "interpreter": {
    "hash": "63fd5069d213b44bf678585dea6b12cceca9941eaf7f819626cde1f2670de90d"
   }
  }
 },
 "nbformat": 4,
 "nbformat_minor": 4
}
