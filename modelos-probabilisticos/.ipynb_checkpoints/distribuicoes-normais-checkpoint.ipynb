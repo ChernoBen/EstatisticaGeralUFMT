{
 "cells": [
  {
   "cell_type": "code",
   "execution_count": 1,
   "metadata": {},
   "outputs": [],
   "source": [
    "from ferramentas.ferramentas import Ferramentas\n"
   ]
  },
  {
   "cell_type": "code",
   "execution_count": 4,
   "metadata": {},
   "outputs": [
    {
     "data": {
      "text/plain": [
       "'\\nDistribuição normal:\\n    Distribuição de probabilidade contínua para uma variável aleatória X,cujo gráfico é chamado de curva normal, satisfazendo\\n    as propriedades listadas a seguir:\\n        \\n        1# A média, a mediana e a moda são iguais\\n        2# Uma curva normal tem forma de sino e é simétrica em torno da média\\n        3# A área total sob a curva normal é igual a 1.\\n        4# À medida que a curva normal se distancia da média, ela se aproxima do eixo X, mas sem tocá-lo.\\n        5# Entre u- o e u + o (centro da curva) a concavidade é p/ baixo e fora concavidade p/ cima\\n\\n'"
      ]
     },
     "execution_count": 4,
     "metadata": {},
     "output_type": "execute_result"
    }
   ],
   "source": [
    "\n",
    "'''\n",
    "Distribuição normal:\n",
    "    Distribuição de probabilidade contínua para uma variável aleatória X,cujo gráfico é chamado de curva normal, satisfazendo\n",
    "    as propriedades listadas a seguir:\n",
    "        \n",
    "        1# A média, a mediana e a moda são iguais\n",
    "        2# Uma curva normal tem forma de sino e é simétrica em torno da média\n",
    "        3# A área total sob a curva normal é igual a 1.\n",
    "        4# À medida que a curva normal se distancia da média, ela se aproxima do eixo X, mas sem tocá-lo.\n",
    "        5# Entre u- o e u + o (centro da curva) a concavidade é p/ baixo e fora concavidade p/ cima\n",
    "\n",
    "'''"
   ]
  },
  {
   "cell_type": "code",
   "execution_count": 6,
   "metadata": {},
   "outputs": [
    {
     "data": {
      "text/plain": [
       "0.0"
      ]
     },
     "execution_count": 6,
     "metadata": {},
     "output_type": "execute_result"
    }
   ],
   "source": [
    "'''\n",
    "Distribuição normal padrão:\n",
    "    É uma distribuição normal com media igual a 0 e desvio padrão 1. A área total sob a curva normal é 1.\n",
    "    calculando score-z\n",
    "        z = (x-u)/o \n",
    "        u = media, o= desvio padrão\n",
    "    \n",
    "'''\n"
   ]
  },
  {
   "cell_type": "code",
   "execution_count": 1,
   "metadata": {},
   "outputs": [
    {
     "name": "stdout",
     "output_type": "stream",
     "text": [
      "desvio: 86.84596837057101 \n",
      " media: 678.6666666666666 \n",
      " score z: [-1.4815502559387335, -0.9058182911957021, -0.33008632645267083, 0.4989677027772942, 0.8213776030333917, 1.397109567776423]\n"
     ]
    }
   ],
   "source": [
    "'''\n",
    "As notas padronizadas do teste de matemática do oitavo ano do estado de São Paulo são normalmente distribuidas.\n",
    "A curva, mostrada na Figura, representa essa distribuição.\n",
    "Qual é a nota média? Estime o desvio padrão dessa distriuição normal.\n",
    "'''\n",
    "notas = Ferramentas()\n",
    "desvio = notas.Dp([550,600,650,722,750,800],0)\n",
    "media = notas.ma\n",
    "score_z = notas.Score()\n",
    "\n",
    "#Resposta\n",
    "print(f'desvio: {desvio} \\n media: {media} \\n')\n",
    "\n",
    "\n",
    "\n",
    "\n"
   ]
  },
  {
   "cell_type": "code",
   "execution_count": 1,
   "metadata": {},
   "outputs": [
    {
     "name": "stdout",
     "output_type": "stream",
     "text": [
      "Área: 0.8749\n"
     ]
    }
   ],
   "source": [
    "'''\n",
    "Encontre a área acumulada que corresponde a um escore-z de 1,15\n",
    "Utilizando a Tabela, escontre a z = 1,5 buscando 1,1 na coluna à esquerda e depois seguindo a linha\n",
    "até a coluna 0,05. O numer naquea linha e coluna é é 0,8749. Então, a área à esqueda de z = 1,115 é\n",
    "0,8749.\n",
    "'''\n",
    "#utilizar função getArea\n",
    "tools = Ferramentas()\n",
    "area = tools.getArea(1.15)\n",
    "print(f'Área: {area}')\n",
    "\n"
   ]
  },
  {
   "cell_type": "code",
   "execution_count": 3,
   "metadata": {},
   "outputs": [
    {
     "name": "stdout",
     "output_type": "stream",
     "text": [
      "z1: 0.06679999999999997 \n",
      " z2: 0.8944\n",
      " Area: 0.8276\n"
     ]
    }
   ],
   "source": [
    "'''\n",
    "Encontre a área sob a curva normal padrão entre z= -1,5 e z = 1,25\n",
    "'''\n",
    "ativ3 = Ferramentas()\n",
    "z1,z2 = ativ3.getArea(-1.5),ativ3.getArea(1.25)\n",
    "print(f'z1: {z1} \\n z2: {z2}')\n",
    "print(f' Area: {z2-z1}')"
   ]
  },
  {
   "cell_type": "code",
   "execution_count": 4,
   "metadata": {},
   "outputs": [
    {
     "name": "stdout",
     "output_type": "stream",
     "text": [
      "Area: 0.16110000000000002\n"
     ]
    }
   ],
   "source": [
    "'''\n",
    "Encontre a área sob a curva normal padrão à esquerda de z=-0.99\n",
    "'''\n",
    "ativ4 = Ferramentas()\n",
    "area = ativ4.getArea(-0.99)\n",
    "print(f'Área: {area}')"
   ]
  },
  {
   "cell_type": "code",
   "execution_count": 8,
   "metadata": {},
   "outputs": [
    {
     "name": "stdout",
     "output_type": "stream",
     "text": [
      "Probabilidade de 1 ano: 2.2800000000000042%\n"
     ]
    }
   ],
   "source": [
    "'''\n",
    "Uma pesquisa indica que as pessoas mantém seus telefones celulares, em média, 1.5 ano\n",
    "antes de comprar um novo. O desvio padrão é 0.25 ano. Um usuário de telefone celular é selecionado\n",
    "aleatoriamente. Calcule a probabilidade de que o usuário manterá seu telefone atual por menos de 1 ano\n",
    "antes de comprar um novo. Considere que as durações de tempo que as pessoas mantém seus telefones são \n",
    "normalmente distribuidas e são representadas pela variavel x.\n",
    "'''\n",
    "# Primeiro obter o zscore\n",
    "ativ5 = Ferramentas()\n",
    "# entrada de getZscore = 1(x ou evento desejado), 1.5(media ou U),0.25(desvio padrão ou O)\n",
    "zscore = ativ5.getZscore(1,1.5,0.25)\n",
    "# Usar zscore para achar a área correspondente a 1 ano\n",
    "area = ativ5.getArea(zscore)\n",
    "print(f'Probabilidade de 1 ano: {area*100}%')"
   ]
  },
  {
   "cell_type": "code",
   "execution_count": 12,
   "metadata": {},
   "outputs": [
    {
     "name": "stdout",
     "output_type": "stream",
     "text": [
      "\n",
      " Entre 24 e 54: 75.05999999999999%\n",
      " Mais que 39: 69.15% \n",
      "\n",
      "\n",
      " Podemos concluir que aproximadamente 138.3 poderão ficar mais que 39 minutos\n"
     ]
    }
   ],
   "source": [
    "'''\n",
    "Uma pesquisa indica que, para cada ida ao supermercado um consumidor\n",
    "permanece na loja em média 45 minutos, com desvio padrão de 12 minutos.\n",
    "A duração dos tempos gastos na loja é normalmente distruida, e representada pela variável x.\n",
    "Um consumidos entra na loja.\n",
    "    \n",
    "    a) Calcule a probabilidade de que ele ficará na loja, para cada intervalo de tempo listado a sequir:\n",
    "        # 1 entre 24 e 54\n",
    "        # mais que 39\n",
    "    b) Interprete sua resposta quando 200 consumidores entrarem na loja.\n",
    "    \n",
    "Quantos consumidores voc~e esperaria que estivessem na loja para cada intervalo de tempo listado?    \n",
    "'''\n",
    "\n",
    "#a)\n",
    "#24 minutos:\n",
    "ativ6 = Ferramentas()\n",
    "z1 = ativ6.getZscore(24,45,12)\n",
    "area1 = ativ6.getArea(zscore)\n",
    "\n",
    "#54 minutos:\n",
    "z2 = ativ6.getZscore(54,45,12)\n",
    "area2 = ativ6.getArea(z2)\n",
    "\n",
    "#mais que 39 minutos\n",
    "z3 = ativ6.getZscore(39,45,12)\n",
    "area3  = ativ6.getArea(z3)\n",
    "area3 = 1 - area3\n",
    "print(f'\\n Entre 24 e 54: {(area2 - area1) * 100}%\\n Mais que 39: {area3 * 100}% \\n')\n",
    "\n",
    "#interpretação\n",
    "qtd = (200 * (area3 *100))/100\n",
    "print(f'\\n Podemos concluir que aproximadamente {qtd} poderão ficar mais que 39 minutos')\n",
    "\n",
    "\n"
   ]
  },
  {
   "cell_type": "code",
   "execution_count": 3,
   "metadata": {},
   "outputs": [
    {
     "name": "stdout",
     "output_type": "stream",
     "text": [
      "\n",
      " peso 1: 12.92\n",
      " peso 2: 8.12\n",
      " peso 3 : 9\n",
      " Pode-se notar que 12.92 libras \n",
      " está acima da média \n",
      " e 8.12 acima.\n"
     ]
    }
   ],
   "source": [
    "'''\n",
    "Um veterinário registra os pesos dos gatos tratados em uma clinica. Os pesos são normalmente distribuidos\n",
    ", com média de 9 libras e desvio padrão de 2 libras. Calcule os pesos X que correspondem aos escore-z\n",
    "de 1.96,-0.44 e 0. Interprete seus resultados.\n",
    "\n",
    "'''\n",
    "ativ7 = Ferramentas()\n",
    "#media = 9, desvio = 2, score1 = 1,96, score2 = -0.44, score3 = 0\n",
    "score1 = 1.96\n",
    "score2 = -0.44\n",
    "score3 = 0\n",
    "peso1 = ativ7.getX(score1,9,2)\n",
    "peso2 = ativ7.getX(score2,9,2)\n",
    "peso3 = ativ7.getX(score3,9,2)\n",
    "\n",
    "print(f'\\n peso 1: {peso1}\\n peso 2: {peso2}\\n peso 3 : {peso3}\\n Pode-se notar que 12.92 libras \\n está acima da média \\n e 8.12 acima.')\n",
    "\n",
    "\n",
    "\n",
    "\n",
    "\n",
    "\n"
   ]
  },
  {
   "cell_type": "code",
   "execution_count": 10,
   "metadata": {},
   "outputs": [
    {
     "name": "stdout",
     "output_type": "stream",
     "text": [
      "62.815515655446006\n",
      "menor pontuação: 62.815515655446006\n"
     ]
    }
   ],
   "source": [
    "'''\n",
    "As pontuações da prova para um agente da lei na Califórnia são normalmente distribuidas,\n",
    "com média 50 e desvio padrão 10. Uma agência somente contratará candidatos com pontuações entre as 10%\n",
    "mais altas. Qual é a menor pontuação que um candidato pode obter para ainda ser elegível a ser contratado\n",
    "pela agência?\n",
    "\n",
    "'''\n",
    "ativ8 = Ferramentas()\n",
    "desvio = 10\n",
    "media = 50\n",
    "area = 0.1 # area ou prob sendo 10% = 0.1\n",
    "resultado = ativ8.getInvertZ(1-area,media,desvio)\n",
    "print(f'menor pontuação: {resultado}')"
   ]
  },
  {
   "cell_type": "code",
   "execution_count": null,
   "metadata": {},
   "outputs": [],
   "source": []
  }
 ],
 "metadata": {
  "kernelspec": {
   "display_name": "Python 3",
   "language": "python",
   "name": "python3"
  },
  "language_info": {
   "codemirror_mode": {
    "name": "ipython",
    "version": 3
   },
   "file_extension": ".py",
   "mimetype": "text/x-python",
   "name": "python",
   "nbconvert_exporter": "python",
   "pygments_lexer": "ipython3",
   "version": "3.8.3"
  },
  "metadata": {
   "interpreter": {
    "hash": "63fd5069d213b44bf678585dea6b12cceca9941eaf7f819626cde1f2670de90d"
   }
  }
 },
 "nbformat": 4,
 "nbformat_minor": 4
}
